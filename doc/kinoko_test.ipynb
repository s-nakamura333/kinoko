{
 "cells": [
  {
   "cell_type": "code",
   "execution_count": 6,
   "id": "c3e1addb-a1ff-4d2c-8ff8-ab17ea5698e7",
   "metadata": {},
   "outputs": [],
   "source": [
    "import pandas as pd\n",
    "from sklearn.model_selection import train_test_split\n",
    "from sklearn.preprocessing import OneHotEncoder\n",
    "from sklearn.compose import ColumnTransformer\n",
    "from sklearn.pipeline import Pipeline\n",
    "from sklearn.ensemble import RandomForestClassifier\n",
    "from sklearn.impute import SimpleImputer\n",
    "\n",
    "# データの読み込み\n",
    "train_data = pd.read_csv('train.tsv', sep='\\t')\n",
    "test_data = pd.read_csv('test.tsv', sep='\\t')\n",
    "\n",
    "# 目的変数 (Y) と説明変数 (X) を分ける\n",
    "X_train = train_data.drop(columns=['id', 'Y'])\n",
    "y_train = train_data['Y']\n",
    "X_test = test_data.drop(columns=['id'])\n",
    "\n",
    "# カテゴリカル変数の前処理パイプライン\n",
    "categorical_features = X_train.columns\n",
    "preprocessor = ColumnTransformer(\n",
    "    transformers=[\n",
    "        ('cat', Pipeline(steps=[\n",
    "            ('imputer', SimpleImputer(strategy='most_frequent')),\n",
    "            ('encoder', OneHotEncoder(handle_unknown='ignore'))\n",
    "        ]), categorical_features)\n",
    "    ]\n",
    ")\n",
    "\n",
    "# モデルの構築とトレーニング\n",
    "model = Pipeline(steps=[\n",
    "    ('preprocessor', preprocessor),\n",
    "    ('classifier', RandomForestClassifier(n_estimators=100, random_state=42))\n",
    "])\n",
    "\n",
    "model.fit(X_train, y_train)\n",
    "\n",
    "# テストデータで予測\n",
    "y_pred = model.predict(X_test)\n",
    "\n",
    "# 結果を DataFrame にまとめる\n",
    "submit_df = pd.DataFrame({\n",
    "    'id': test_data['id'],\n",
    "    'Y': y_pred\n",
    "})\n",
    "\n",
    "# submit.csv に出力\n",
    "submit_df.to_csv('submit.csv', index=False)\n"
   ]
  }
 ],
 "metadata": {
  "kernelspec": {
   "display_name": "Python 3 (ipykernel)",
   "language": "python",
   "name": "python3"
  },
  "language_info": {
   "codemirror_mode": {
    "name": "ipython",
    "version": 3
   },
   "file_extension": ".py",
   "mimetype": "text/x-python",
   "name": "python",
   "nbconvert_exporter": "python",
   "pygments_lexer": "ipython3",
   "version": "3.12.4"
  }
 },
 "nbformat": 4,
 "nbformat_minor": 5
}
